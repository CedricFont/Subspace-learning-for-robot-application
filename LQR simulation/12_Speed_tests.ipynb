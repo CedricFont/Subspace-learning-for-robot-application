{
 "cells": [
  {
   "cell_type": "code",
   "execution_count": 1,
   "metadata": {},
   "outputs": [],
   "source": [
    "import numpy as np\n",
    "from numpy import random as rnd\n",
    "from numpy.linalg import pinv\n",
    "from numpy import linalg as lg\n",
    "from scipy import linalg as slg\n",
    "from importlib import reload\n",
    "import seaborn as snb\n",
    "import matplotlib.pyplot as plt\n",
    "import Utils.Functions \n",
    "from Utils.Functions import *\n",
    "import pbdlib as pbd\n",
    "from scipy.linalg import hankel\n",
    "from hyperopt import tpe, hp, fmin, STATUS_OK, Trials\n",
    "import joblib\n",
    "import pybullet\n",
    "from pbdlib import LQR\n",
    "from pbdlib.utils import get_canonical\n",
    "import pandapybullet as ppb\n",
    "import skopt as sk\n",
    "import torch\n",
    "import torch.linalg as tlg\n",
    "import time\n",
    "%load_ext autoreload\n",
    "%autoreload 2\n",
    "plt.style.use(\"default\")\n",
    "plt.rcParams['font.size'] = 13\n",
    "plt.rcParams['axes.linewidth'] = 1.5\n",
    "plt.rcParams['lines.linewidth'] = 2.5\n",
    "np.set_printoptions(precision=5, suppress=False)"
   ]
  },
  {
   "cell_type": "code",
   "execution_count": 3,
   "metadata": {},
   "outputs": [
    {
     "data": {
      "text/plain": [
       "'1.9.0+cu102'"
      ]
     },
     "execution_count": 3,
     "metadata": {},
     "output_type": "execute_result"
    }
   ],
   "source": [
    "torch.__version__"
   ]
  },
  {
   "cell_type": "code",
   "execution_count": 4,
   "metadata": {},
   "outputs": [
    {
     "data": {
      "text/plain": [
       "True"
      ]
     },
     "execution_count": 4,
     "metadata": {},
     "output_type": "execute_result"
    }
   ],
   "source": [
    "torch.cuda.is_available()"
   ]
  },
  {
   "cell_type": "code",
   "execution_count": 5,
   "metadata": {},
   "outputs": [
    {
     "name": "stdout",
     "output_type": "stream",
     "text": [
      "Torch computation time :  26.429888486862183\n",
      "Torch computation time with cuda :  37.2326078414917\n",
      "Numpy computation time :  65.3327476978302\n"
     ]
    }
   ],
   "source": [
    "X_torch = torch.rand(10000,5000)\n",
    "X_numpy = rnd.random((10000,5000))\n",
    "X_torch_cuda = X_torch.to(torch.device('cuda'))\n",
    "\n",
    "start = time.time()\n",
    "svd_torch = tlg.svd(X_torch, full_matrices=False)\n",
    "print('Torch computation time : ',time.time() - start)\n",
    "\n",
    "start = time.time()\n",
    "svd_torch_cuda = tlg.svd(X_torch_cuda, full_matrices=False)\n",
    "print('Torch computation time with cuda : ',time.time() - start)\n",
    "\n",
    "start = time.time()\n",
    "svd_numpy = lg.svd(X_numpy, full_matrices=False)\n",
    "print('Numpy computation time : ',time.time() - start)"
   ]
  },
  {
   "cell_type": "code",
   "execution_count": 9,
   "metadata": {},
   "outputs": [
    {
     "name": "stdout",
     "output_type": "stream",
     "text": [
      "cpu\n",
      "cuda:0\n",
      "Torch computation time :  40.77221632003784\n",
      "Torch computation time with cuda :  35.713510274887085\n",
      "Numpy computation time :  98.71174144744873\n"
     ]
    }
   ],
   "source": [
    "X_torch = torch.rand(10000,5000)\n",
    "X_numpy = rnd.random((10000,5000))\n",
    "X_torch_cuda = X_torch.to(torch.device('cuda'))\n",
    "print(X_torch.device)\n",
    "print(X_torch_cuda.device)\n",
    "\n",
    "start = time.time()\n",
    "svd_torch = tlg.pinv(X_torch)\n",
    "print('Torch computation time : ',time.time() - start)\n",
    "\n",
    "start = time.time()\n",
    "svd_torch_cuda = tlg.pinv(X_torch_cuda)\n",
    "print('Torch computation time with cuda : ',time.time() - start)\n",
    "\n",
    "start = time.time()\n",
    "svd_numpy = lg.pinv(X_numpy)\n",
    "print('Numpy computation time : ',time.time() - start)"
   ]
  },
  {
   "cell_type": "code",
   "execution_count": 37,
   "metadata": {},
   "outputs": [
    {
     "data": {
      "text/plain": [
       "'torch.DoubleTensor'"
      ]
     },
     "execution_count": 37,
     "metadata": {},
     "output_type": "execute_result"
    }
   ],
   "source": [
    "env = torch\n",
    "\n",
    "a=env.ones([5])\n",
    "\n",
    "b=env.diag(a)\n",
    "\n",
    "env.cat((a[:,None].T,b),axis=0)\n",
    "\n",
    "a = a[:,None]\n",
    "a.sum()+1\n",
    "\n",
    "c = np.empty([5,5])\n",
    "c = torch.tensor(c)\n",
    "c.type()"
   ]
  },
  {
   "cell_type": "code",
   "execution_count": 13,
   "metadata": {},
   "outputs": [
    {
     "name": "stdout",
     "output_type": "stream",
     "text": [
      "tensor([[0.7239, 0.4100, 0.5314, 0.2558, 0.5179]])\n",
      "[[0.72393 0.40997 0.53138 0.25579 0.51787]]\n",
      "0\n"
     ]
    }
   ],
   "source": [
    "a = torch.rand(1,5)\n",
    "print(a)\n",
    "a=a.numpy()\n",
    "print(a)\n",
    "a = np.inf\n",
    "if np.isinf(a): a = 0\n",
    "print(a)"
   ]
  }
 ],
 "metadata": {
  "kernelspec": {
   "display_name": "Python 3",
   "language": "python",
   "name": "python3"
  },
  "language_info": {
   "codemirror_mode": {
    "name": "ipython",
    "version": 3
   },
   "file_extension": ".py",
   "mimetype": "text/x-python",
   "name": "python",
   "nbconvert_exporter": "python",
   "pygments_lexer": "ipython3",
   "version": "3.8.5"
  }
 },
 "nbformat": 4,
 "nbformat_minor": 4
}
