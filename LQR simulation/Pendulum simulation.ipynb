{
 "cells": [
  {
   "cell_type": "markdown",
   "id": "dc1c400e-e42d-4c6e-93c9-198c5b5cfa1c",
   "metadata": {},
   "source": [
    "# LQR control of learned dynamics for pendulum"
   ]
  },
  {
   "cell_type": "markdown",
   "id": "61a5d235-143c-4d4d-9e87-49aba0fa2e3b",
   "metadata": {},
   "source": [
    "## Pendulum simulation\n",
    "### Pendulum dynamics"
   ]
  },
  {
   "cell_type": "markdown",
   "id": "a5069e4e-3b17-49f7-8717-a4f22f77028a",
   "metadata": {},
   "source": [
    "$\\frac{1}{2}m L^2 \\ddot{\\theta} + mg sin(\\theta) = u$ <br> \n",
    "\n",
    "With $u$ being the torque applied on the pendulum rotation center. Now, the goal is to simulate this system for given inputs $u$ and store the values for both\n",
    "$u$ and the states. But first, transform to state-space."
   ]
  },
  {
   "cell_type": "code",
   "execution_count": 24,
   "id": "5733d9c5-5a9d-4ed9-b06c-82211bcd1f57",
   "metadata": {},
   "outputs": [],
   "source": [
    "import numpy as np\n",
    "\n",
    "def Pendulum(m, l, u, theta):\n",
    "    \n",
    "    g = 9.81\n",
    "    x1 = theta[1]\n",
    "    x2 = theta[2]\n",
    "    dx1dt = x2\n",
    "    dx2dt = 2/(ml**2)*(u - m*g*np.sin(x1))\n",
    "    dxdt = [dx1dt, dx2dt]\n",
    "     \n",
    "    return dxdt"
   ]
  },
  {
   "cell_type": "markdown",
   "id": "a1ead496-4bd8-423b-89d7-0b9f7d79d890",
   "metadata": {},
   "source": [
    "Now simulate the pendulum using a pre-defined torque input $u$ and integrate using a *Runge-Kutta 4* integrator to retrieve the states, i.e. $x_1 = \\theta$, \n",
    "$x_2 = \\dot{\\theta}$ and $x_3 = \\ddot{\\theta}$."
   ]
  },
  {
   "cell_type": "code",
   "execution_count": 25,
   "id": "ff3330a0-bd90-4415-834d-aca5b1054b86",
   "metadata": {},
   "outputs": [],
   "source": [
    "x0 = [0, 0, 0] # Initial condition (horizontal)\n",
    "time = np.linspace(0,10,1000) # Time array\n",
    "m = 1 # [kg]\n",
    "l = 1 # [m]\n",
    "torque = 0.1*np.ones([1, time.shape[0]]) # Control input [Nm]\n",
    "\n",
    "# Simulation\n"
   ]
  }
 ],
 "metadata": {
  "kernelspec": {
   "display_name": "Python",
   "language": "python",
   "name": "python3"
  },
  "language_info": {
   "codemirror_mode": {
    "name": "ipython",
    "version": 3
   },
   "file_extension": ".py",
   "mimetype": "text/x-python",
   "name": "python",
   "nbconvert_exporter": "python",
   "pygments_lexer": "ipython3",
   "version": "3.8.10"
  }
 },
 "nbformat": 4,
 "nbformat_minor": 5
}
