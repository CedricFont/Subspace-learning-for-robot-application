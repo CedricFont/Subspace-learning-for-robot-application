{
 "cells": [
  {
   "cell_type": "markdown",
   "metadata": {},
   "source": [
    "# LQR control of learned dynamics for pendulum"
   ]
  },
  {
   "cell_type": "markdown",
   "metadata": {},
   "source": [
    "## Pendulum simulation\n",
    "### Pendulum dynamics"
   ]
  },
  {
   "cell_type": "markdown",
   "metadata": {},
   "source": [
    "$\\frac{1}{2}m L^2 \\ddot{\\theta} + mg sin(\\theta) = u$ <br> \n",
    "\n",
    "With $u$ being the torque applied on the pendulum rotation center. Now, the goal is to simulate this system for given inputs $u$ and store the values for both\n",
    "$u$ and the states. But first, transform to state-space."
   ]
  },
  {
   "cell_type": "code",
   "execution_count": 2,
   "metadata": {},
   "outputs": [],
   "source": [
    "import numpy as np\n",
    "\n",
    "def Pendulum(m, l, u, theta):\n",
    "    \n",
    "    g = 9.81\n",
    "    x1 = theta[1]\n",
    "    x2 = theta[2]\n",
    "    dx1dt = x2\n",
    "    dx2dt = 2/(ml**2)*(u - m*g*np.sin(x1))\n",
    "    dxdt = [dx1dt, dx2dt]\n",
    "     \n",
    "    return dxdt"
   ]
  },
  {
   "cell_type": "markdown",
   "metadata": {},
   "source": [
    "Now simulate the pendulum using a pre-defined torque input $u$ and integrate using a *Runge-Kutta 4* integrator to retrieve the states, i.e. $x_1 = \\theta$, \n",
    "$x_2 = \\dot{\\theta}$ and $x_3 = \\ddot{\\theta}$."
   ]
  },
  {
   "cell_type": "code",
   "execution_count": 3,
   "metadata": {},
   "outputs": [],
   "source": [
    "x0 = [0, 0, 0] # Initial condition (horizontal)\n",
    "time = np.linspace(0,10,1000) # Time array\n",
    "m = 1 # [kg]\n",
    "l = 1 # [m]\n",
    "torque = 0.1*np.ones([1, time.shape[0]]) # Control input [Nm]\n",
    "\n",
    "# Simulation\n",
    "# blabla"
   ]
  }
 ],
 "metadata": {
  "kernelspec": {
   "display_name": "Python 3",
   "language": "python",
   "name": "python3"
  },
  "language_info": {
   "codemirror_mode": {
    "name": "ipython",
    "version": 3
   },
   "file_extension": ".py",
   "mimetype": "text/x-python",
   "name": "python",
   "nbconvert_exporter": "python",
   "pygments_lexer": "ipython3",
   "version": "3.8.5"
  }
 },
 "nbformat": 4,
 "nbformat_minor": 5
}
