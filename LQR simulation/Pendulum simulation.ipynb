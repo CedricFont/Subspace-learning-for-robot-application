{
 "cells": [
  {
   "cell_type": "markdown",
   "id": "dc1c400e-e42d-4c6e-93c9-198c5b5cfa1c",
   "metadata": {},
   "source": [
    "# LQR control of learned dynamics for pendulum"
   ]
  },
  {
   "cell_type": "markdown",
   "id": "61a5d235-143c-4d4d-9e87-49aba0fa2e3b",
   "metadata": {},
   "source": [
    "## Pendulum simulation\n",
    "### Pendulum dynamics"
   ]
  },
  {
   "cell_type": "markdown",
   "id": "a5069e4e-3b17-49f7-8717-a4f22f77028a",
   "metadata": {},
   "source": [
    "$\\frac{1}{2}m L^2 \\ddot{\\theta} + mg sin(\\theta) = u$ <br> \n",
    "\n",
    "With $u$ being the torque applied on the pendulum rotation center. Now, the goal is to simulate this system for given inputs $u$ and store the values for both\n",
    "$u$ and the states. But first, transform to state-space."
   ]
  },
  {
   "cell_type": "code",
   "execution_count": 1,
   "id": "5733d9c5-5a9d-4ed9-b06c-82211bcd1f57",
   "metadata": {},
   "outputs": [],
   "source": [
    "import numpy as np\n",
    "def Pendulum(u, theta, m, l):\n",
    "    g = 9.81\n",
    "    x1 = theta[1]\n",
    "    x2 = theta[2]\n",
    "    x3 = 2/(ml**2)*(u - m*g*np.sin(x1))"
   ]
  }
 ],
 "metadata": {
  "kernelspec": {
   "display_name": "Python",
   "language": "python",
   "name": "python3"
  },
  "language_info": {
   "codemirror_mode": {
    "name": "ipython",
    "version": 3
   },
   "file_extension": ".py",
   "mimetype": "text/x-python",
   "name": "python",
   "nbconvert_exporter": "python",
   "pygments_lexer": "ipython3",
   "version": "3.8.10"
  }
 },
 "nbformat": 4,
 "nbformat_minor": 5
}
